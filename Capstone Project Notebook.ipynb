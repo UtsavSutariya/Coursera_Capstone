{
    "cells": [
        {
            "metadata": {
                "collapsed": true
            },
            "cell_type": "markdown",
            "source": "# Hello Capstone \n### This is simple Capstone project"
        },
        {
            "metadata": {},
            "cell_type": "code",
            "source": "import pandas as pd\nimport numpy as np",
            "execution_count": 7,
            "outputs": []
        },
        {
            "metadata": {},
            "cell_type": "code",
            "source": "print(\"Hello Capstone Project Course!\")",
            "execution_count": 8,
            "outputs": [
                {
                    "output_type": "stream",
                    "text": "Hello Capstone Project Course!\n",
                    "name": "stdout"
                }
            ]
        },
        {
            "metadata": {},
            "cell_type": "code",
            "source": "'''Watson Studio, Knowledge Catalog & Machine Learning on IBM Cloud\nWhat's new\nIBM Watson Studio\nIBM Watson Knowledge Catalog\nOffering plans\nFeature matrix\nAbout assets\nKnown issues\nFAQs\nIBM Watson APIs\nSecurity\nNotices\nAccessibility\nGetting started\nProjects\nPreparing data\nData science\nMachine learning & AI models\nCatalogs\nGovernance\nTroubleshooting\nAdministration\nKnown issues\nLast updated: December 3, 2019\nRegional limitations\nLimitation for the Frankfurt region\nLimitations for the Tokyo region\nWatson Knowledge Catalog\nBusiness glossary term associations\nRefresh your browser after adding the Watson Knowledge Catalog app\nAdd collaborators with lowercase email addresses\nObject Storage connection restrictions\nMultiple concurrent connection operations might fail\nCan\u2019t enable policies after catalog creation\nPolicies\nData is not masked in some project tools\nBusiness glossary terms need manual refresh\nAssets are blocked if evaluation fails\nData Refinery\nCSV file limitations\nColumn name limitations\nSystem-level schemas aren\u2019t filtered out\nTarget connection limitations\nTarget file limitations\nWhite space characters are considered as part of the data\n\u201cReplace missing values\u201d operation does not show the replaced values\nt-SNE charts are not supported in Internet Explorer\nWatson Studio Setup issues\nCan\u2019t create assets in older accounts\nError during login\nManual installation of some tensor libraries is not supported\nNotebook issues\nConnection to notebook kernel is taking longer than expected after running a code cell\nUsing the predefined sqlContext object in multiple notebooks causes an error\nSpark tasks might fail with missing AWS keys error\nNotebook kernel not started when opening a Scala notebook\nConnection failed message\nConnection to notebook kernel on Amazon EMR failed\nConnecting to the notebook kernel on Amazon EMR is taking longer than expected\nConnection to Amazon EMR not available\nConnection to IBM Analytics Engine service not available\nMachine Learning issues\nSynthesized Neural Network execution error\nNeural Network Modeler 502 error\nRegion requirements\nFlow Editor runtime restrictions\nDeployment issues\nAutoAI known limitations\nStreams flow issues\nStreams flow restrictions\nLimitations by region\nYou have these limitations if you provision Watson apps in the Frankfurt (Germany) or Tokyo (AP-North) IBM Cloud service regions.\n\nFrankfurt region\nWatson apps have these limitations in the Frankfurt region:\n\nIf you need a Spark runtime, you must use the Spark environment in Watson Studio for the model builder, modeler flow, and notebook editor tools.\nThe Batch Prediction and Real-time Streaming Predictions deployment types are not yet available.\nDeep learning is not yet available. You can\u2019t create deep learning notebooks or deep learning experiments.\nThe Neural Network Modeler is not yet available.\nThe Usage Statistics page for catalogs is not yet available.\nThe Total Catalog Assets information is not yet available.\nProfiling of data assets that contain unstructured textual data is not yet available.\nCloud Functions are not yet available.\nTokyo region\nWatson apps have these limitations in the Tokyo region:\n\nIf you need a Spark runtime, you must use the Spark environment in Watson Studio for the model builder, modeler flow, and notebook editor tools.\nThe Real-time Streaming Predictions deployment type is not yet available.\nDeep learning is not yet available. You can\u2019t create deep learning notebooks or deep learning experiments.\nThe Neural Network Modeler is not yet available.\nThe Total Catalog Assets information is not yet available.\nProfiling of data assets that contain unstructured textual data is not yet available.\nMultibyte characters are not supported in user-input fields in Data Refinery. Some fields allow multibyte characters but do not display them correctly.\nActivity Tracker events for services provisioned in the Tokyo region are shown in the Activity Tracker service in the Sydney region.\nCloud Functions are not yet available.\nWatson Knowledge Catalog\nIf you use the Watson Knowledge Catalog app, you might encounter these known issues and restrictions when you use catalogs.\n\nBusiness glossary term associations\nIf you edit a policy or rule that was created before March 16, 2018, associations between the policy or rule and business terms that are used in the policy or rule are duplicated. When you view the business term, you\u2019ll see the policy or rule listed twice on the Related Content page.\n\nRefresh your browser after adding the Watson Knowledge Catalog app\nIf you add the Watson Knowledge Catalog app to your account using the Try-Out link on the landing page, you must refresh your browser to see catalog items.\n\nAdd collaborators with lowercase email addresses\nWhen you add collaborators to the catalog, enter email addresses with all lowercase letters. Mixed-case email addresses are not supported.\n\nObject Storage connection restrictions\nWhen you look at an Cloud Object Storage (S3 API) or Cloudant connection, the folder itself is listed as a child asset.\n\nMultiple concurrent connection operations might fail\nAn error might be encountered when multiple users are running connection operations concurrently. The error message can vary.\n\nCan\u2019t enable policies after catalog creation\nYou cannot enable the enforcement of policies after you create a catalog. To apply policies to the assets in a catalog, you must enable enforcement during catalog creation.\n\nPolicies\nIf you use the Watson Knowledge Catalog app, you might encounter these known issues and restrictions when you use policies.\n\nData is not masked in some project tools\nWhen you add a connected data asset that has masked columns from a catalog to a project, the columns remain masked when you view the data and when you refine the data in the Data Refinery tool. Other tools in projects, however, do not preserve masking when accessing data through a connection. For example, when you load connected data in a notebook, you access the data through a direct connection and bypass masking.\n\nWorkaround To retain masking of connected data, create a new asset with Data Refinery:\n\nOpen the connected data asset and click Refine'''",
            "execution_count": null,
            "outputs": []
        },
        {
            "metadata": {},
            "cell_type": "code",
            "source": "",
            "execution_count": null,
            "outputs": []
        }
    ],
    "metadata": {
        "kernelspec": {
            "name": "python3",
            "display_name": "Python 3.6",
            "language": "python"
        },
        "language_info": {
            "name": "python",
            "version": "3.6.8",
            "mimetype": "text/x-python",
            "codemirror_mode": {
                "name": "ipython",
                "version": 3
            },
            "pygments_lexer": "ipython3",
            "nbconvert_exporter": "python",
            "file_extension": ".py"
        }
    },
    "nbformat": 4,
    "nbformat_minor": 1
}